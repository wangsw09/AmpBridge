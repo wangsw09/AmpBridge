{
 "cells": [
  {
   "cell_type": "markdown",
   "metadata": {},
   "source": [
    "# AmpBridge -- Examples"
   ]
  },
  {
   "cell_type": "markdown",
   "metadata": {},
   "source": [
    "## 1. Introduction"
   ]
  },
  {
   "cell_type": "markdown",
   "metadata": {},
   "source": [
    "This package implements two parts of functionality.\n",
    "1. Theoretical quantities related to approximate message passing (AMP) state-evolution for bridge regression. Specifically, we provide the following quantities:\n",
    "   * MSE\n",
    "   * Optimal tuning $\\alpha$\n",
    "   * Optimal MSE under the optimal tuning\n",
    "   * Correspondence between the original tuning and AMP tuning\n",
    "2. Bridge regression algorithm.\n",
    "   * Coordinate descent algorithm for bridge regression for a given tuning\n",
    "   * Coordinate descent algorithm for bridge regression for a sequence of tunings\n",
    "3. Empirical MSE and tuning for bridge estimator under Gaussian design\n",
    "   * Empirical tuning transformation between the original tuning and the AMP tuning\n",
    "   * Empirical MSE estimator"
   ]
  },
  {
   "cell_type": "markdown",
   "metadata": {},
   "source": [
    "## 2. Theoretical Quantities Related to AMP State Evolution"
   ]
  },
  {
   "cell_type": "code",
   "execution_count": 13,
   "metadata": {},
   "outputs": [],
   "source": [
    "from __future__ import print_function\n",
    "import numpy as np\n",
    "import numpy.random as npr\n",
    "\n",
    "import AmpBridge as ab"
   ]
  },
  {
   "cell_type": "markdown",
   "metadata": {},
   "source": [
    "**MSE for a given tuning $\\alpha$**"
   ]
  },
  {
   "cell_type": "code",
   "execution_count": 14,
   "metadata": {},
   "outputs": [
    {
     "name": "stdout",
     "output_type": "stream",
     "text": [
      "MSE for LASSO at alpha=1.1 when M=1.0, epsilon=0.2, delta=0.8, sigma=1.5 is: 0.480785524546\n",
      "MSE for L1.2 at alpha=1.1 when M=1.0, epsilon=0.2, delta=0.8, sigma=1.5 is: 0.378383566037\n",
      "MSE for Ridge at alpha=1.1 when M=1.0, epsilon=0.2, delta=0.8, sigma=1.5 is: 0.357953281393\n",
      "MSE for L2.5 at alpha=1.1 when M=1.0, epsilon=0.2, delta=0.8, sigma=1.5 is: 0.412617490908\n"
     ]
    }
   ],
   "source": [
    "alpha = 1.1\n",
    "M = 1.0\n",
    "epsilon = 0.2\n",
    "delta = 0.8\n",
    "sigma = 1.5\n",
    "q = 1.0\n",
    "print(\"MSE for LASSO at alpha={alpha} when M={M}, epsilon={epsilon}, delta={delta}, sigma={sigma} is:\".format(\n",
    "    alpha=alpha, M=M, epsilon=epsilon, delta=delta, sigma=sigma), ab.mseLq(alpha, M, epsilon, delta, sigma, q))\n",
    "q = 1.2\n",
    "print(\"MSE for L1.2 at alpha={alpha} when M={M}, epsilon={epsilon}, delta={delta}, sigma={sigma} is:\".format(\n",
    "    alpha=alpha, M=M, epsilon=epsilon, delta=delta, sigma=sigma), ab.mseLq(alpha, M, epsilon, delta, sigma, q))\n",
    "q = 2\n",
    "print(\"MSE for Ridge at alpha={alpha} when M={M}, epsilon={epsilon}, delta={delta}, sigma={sigma} is:\".format(\n",
    "    alpha=alpha, M=M, epsilon=epsilon, delta=delta, sigma=sigma), ab.mseLq(alpha, M, epsilon, delta, sigma, q))\n",
    "q = 2.5\n",
    "print(\"MSE for L2.5 at alpha={alpha} when M={M}, epsilon={epsilon}, delta={delta}, sigma={sigma} is:\".format(\n",
    "    alpha=alpha, M=M, epsilon=epsilon, delta=delta, sigma=sigma), ab.mseLq(alpha, M, epsilon, delta, sigma, q))"
   ]
  },
  {
   "cell_type": "markdown",
   "metadata": {},
   "source": [
    "**The optimal tuning and the optimal MSE**"
   ]
  },
  {
   "cell_type": "code",
   "execution_count": 15,
   "metadata": {},
   "outputs": [
    {
     "name": "stdout",
     "output_type": "stream",
     "text": [
      "When M=1.0, epsilon=0.2, delta=0.8, sigma=1.5:\n",
      "The optimal tuning is: 3.15480243415\n",
      "The optimal MSE is: 0.199839540062\n",
      "The optimal MSE may also be obtained directly: 0.199839540062\n"
     ]
    }
   ],
   "source": [
    "q = 1.0\n",
    "alpha_opt = ab.optimal_tuning(M, q, epsilon, delta, sigma)\n",
    "mse_opt1 = ab.mseLq(alpha_opt, M, epsilon, delta, sigma, q)\n",
    "mse_opt2 = ab.optimal_mseLq(M, epsilon, delta, sigma, q)\n",
    "\n",
    "print(\"When M={M}, epsilon={epsilon}, delta={delta}, sigma={sigma}:\".format(\n",
    "    M=M, epsilon=epsilon, delta=delta, sigma=sigma))\n",
    "print(\"The optimal tuning is:\", alpha_opt)\n",
    "print(\"The optimal MSE is:\", mse_opt1)\n",
    "print(\"The optimal MSE may also be obtained directly:\", mse_opt2)"
   ]
  },
  {
   "cell_type": "markdown",
   "metadata": {},
   "source": [
    "**Correspondence between the raw tuning $\\lambda$ and the AMP tuning $\\alpha$**"
   ]
  },
  {
   "cell_type": "code",
   "execution_count": 16,
   "metadata": {},
   "outputs": [
    {
     "name": "stdout",
     "output_type": "stream",
     "text": [
      "At q=1.0:\n",
      "The lambda corresponds to alpha=1.5 is: 1.97314847823\n",
      "The lambda corresponds to lambda=1.97 is: 1.49842715025\n"
     ]
    }
   ],
   "source": [
    "q = 1.0\n",
    "alpha1 = 1.5\n",
    "lam1 = ab.tuning_transform(alpha1, M, epsilon, delta, sigma, q)\n",
    "lam2 = round(lam1, 2)\n",
    "alpha2 = ab.tuning_transform_inv(lam2, M, epsilon, delta, sigma, q)\n",
    "\n",
    "print(\"At q={q}:\".format(q=q))\n",
    "print(\"The lambda corresponds to alpha={alpha} is: {lam}\".format(alpha=alpha1,lam=lam1))\n",
    "print(\"The lambda corresponds to lambda={lam} is: {alpha}\".format(alpha=alpha2,lam=lam2))"
   ]
  },
  {
   "cell_type": "markdown",
   "metadata": {},
   "source": [
    "## 3. Bridge Regression"
   ]
  },
  {
   "cell_type": "markdown",
   "metadata": {},
   "source": [
    "Generate data"
   ]
  },
  {
   "cell_type": "code",
   "execution_count": 17,
   "metadata": {},
   "outputs": [],
   "source": [
    "n = 10000\n",
    "p = 2000\n",
    "X = npr.normal(size=(n, p))\n",
    "beta = npr.normal(size=p)\n",
    "y = np.dot(X, beta) + 0.01 * npr.normal(size=n)"
   ]
  },
  {
   "cell_type": "markdown",
   "metadata": {},
   "source": [
    "**Bridge regression for a single tuning (coordinate descent)**"
   ]
  },
  {
   "cell_type": "markdown",
   "metadata": {},
   "source": [
    "LASSO"
   ]
  },
  {
   "cell_type": "code",
   "execution_count": 18,
   "metadata": {
    "collapsed": true
   },
   "outputs": [],
   "source": [
    "lam = 1.0\n",
    "q = 1.0\n",
    "tol = 1e-8\n",
    "max_iter = 5000\n",
    "beta_hat1 = ab.coptimization.bridge_Lq(X, y, lam, q, tol, max_iter)"
   ]
  },
  {
   "cell_type": "markdown",
   "metadata": {},
   "source": [
    "L1.2"
   ]
  },
  {
   "cell_type": "code",
   "execution_count": 19,
   "metadata": {
    "collapsed": true
   },
   "outputs": [],
   "source": [
    "lam = 1.0\n",
    "q = 1.2\n",
    "tol = 1e-8\n",
    "max_iter = 5000\n",
    "beta_hat1p5 = ab.coptimization.bridge_Lq(X, y, lam, q, tol, max_iter)"
   ]
  },
  {
   "cell_type": "markdown",
   "metadata": {},
   "source": [
    "Ridge"
   ]
  },
  {
   "cell_type": "code",
   "execution_count": 20,
   "metadata": {
    "collapsed": true
   },
   "outputs": [],
   "source": [
    "lam = 1.0\n",
    "q = 2\n",
    "tol = 1e-8\n",
    "max_iter = 5000\n",
    "beta_hat2 = ab.coptimization.bridge_Lq(X, y, lam, q, tol, max_iter)"
   ]
  },
  {
   "cell_type": "markdown",
   "metadata": {},
   "source": [
    "L2.5"
   ]
  },
  {
   "cell_type": "code",
   "execution_count": 21,
   "metadata": {
    "collapsed": true
   },
   "outputs": [],
   "source": [
    "lam = 1.0\n",
    "q = 2.5\n",
    "tol = 1e-8\n",
    "max_iter = 5000\n",
    "beta_hat2p5 = ab.coptimization.bridge_Lq(X, y, lam, q, tol, max_iter)"
   ]
  },
  {
   "cell_type": "markdown",
   "metadata": {},
   "source": [
    "**Bridge regression for a sequence of tunings (coordinate descent)**\n",
    "\n",
    "The sequence of lambda must be in increasing order"
   ]
  },
  {
   "cell_type": "markdown",
   "metadata": {},
   "source": [
    "LASSO"
   ]
  },
  {
   "cell_type": "code",
   "execution_count": 22,
   "metadata": {},
   "outputs": [],
   "source": [
    "lam = 10 ** np.linspace(-5, 5, 100)\n",
    "q = 1.0\n",
    "tol = 1e-8\n",
    "max_iter = 5000\n",
    "Beta_hat1 = ab.coptimization.vec_bridge_Lq(X, y, lam, q, tol, max_iter)"
   ]
  },
  {
   "cell_type": "markdown",
   "metadata": {},
   "source": [
    "L1.2"
   ]
  },
  {
   "cell_type": "code",
   "execution_count": 23,
   "metadata": {
    "collapsed": true
   },
   "outputs": [],
   "source": [
    "lam = 10 ** np.linspace(-5, 5, 100)\n",
    "q = 1.2\n",
    "tol = 1e-8\n",
    "max_iter = 5000\n",
    "Beta_hat1p5 = ab.coptimization.vec_bridge_Lq(X, y, lam, q, tol, max_iter)"
   ]
  },
  {
   "cell_type": "markdown",
   "metadata": {},
   "source": [
    "Ridge"
   ]
  },
  {
   "cell_type": "code",
   "execution_count": 24,
   "metadata": {},
   "outputs": [],
   "source": [
    "lam = 10 ** np.linspace(-5, 5, 100)\n",
    "q = 2\n",
    "tol = 1e-8\n",
    "max_iter = 5000\n",
    "Beta_hat2 = ab.coptimization.vec_bridge_Lq(X, y, lam, q, tol, max_iter)"
   ]
  },
  {
   "cell_type": "markdown",
   "metadata": {},
   "source": [
    "L2.5"
   ]
  },
  {
   "cell_type": "code",
   "execution_count": 25,
   "metadata": {
    "collapsed": true
   },
   "outputs": [],
   "source": [
    "lam = 10 ** np.linspace(-5, 5, 100)\n",
    "q = 2.5\n",
    "tol = 1e-8\n",
    "max_iter = 5000\n",
    "Beta_hat2p5 = ab.coptimization.vec_bridge_Lq(X, y, lam, q, tol, max_iter)"
   ]
  },
  {
   "cell_type": "markdown",
   "metadata": {},
   "source": [
    "## 4. Tuning in Bridge Regression under Gaussian design"
   ]
  },
  {
   "cell_type": "markdown",
   "metadata": {},
   "source": [
    "**Empirical tuning mapping**"
   ]
  },
  {
   "cell_type": "markdown",
   "metadata": {},
   "source": [
    "LASSO"
   ]
  },
  {
   "cell_type": "code",
   "execution_count": 26,
   "metadata": {},
   "outputs": [],
   "source": [
    "lam = 5.0\n",
    "q = 1.0\n",
    "tol = 1e-8\n",
    "max_iter = 5000\n",
    "delta = 1.0 * n / p\n",
    "\n",
    "beta_hat1 = ab.coptimization.bridge_Lq(X, y, lam, q, tol, max_iter)\n",
    "gamma1 = ab.empirical_tuning_mapping(lam, beta_hat1, delta, q, tol)"
   ]
  },
  {
   "cell_type": "markdown",
   "metadata": {},
   "source": [
    "L1.2"
   ]
  },
  {
   "cell_type": "code",
   "execution_count": 27,
   "metadata": {
    "collapsed": true
   },
   "outputs": [],
   "source": [
    "lam = 5.0\n",
    "q = 1.2\n",
    "tol = 1e-8\n",
    "max_iter = 5000\n",
    "delta = 1.0 * n / p\n",
    "\n",
    "beta_hat1p2 = ab.coptimization.bridge_Lq(X, y, lam, q, tol, max_iter)\n",
    "gamma1p2 = ab.empirical_tuning_mapping(lam, beta_hat1p2, delta, q, tol)"
   ]
  },
  {
   "cell_type": "markdown",
   "metadata": {},
   "source": [
    "**Empirical MSE estimation**"
   ]
  },
  {
   "cell_type": "markdown",
   "metadata": {},
   "source": [
    "LASSO"
   ]
  },
  {
   "cell_type": "code",
   "execution_count": 28,
   "metadata": {},
   "outputs": [
    {
     "data": {
      "text/plain": [
       "25.087573755876779"
      ]
     },
     "execution_count": 28,
     "metadata": {},
     "output_type": "execute_result"
    }
   ],
   "source": [
    "q = 1\n",
    "tol = 1e-8\n",
    "ab.empirical_mse(beta_hat1, X, y, gamma1, q, tol)"
   ]
  },
  {
   "cell_type": "markdown",
   "metadata": {},
   "source": [
    "L1.2"
   ]
  },
  {
   "cell_type": "code",
   "execution_count": 29,
   "metadata": {},
   "outputs": [
    {
     "data": {
      "text/plain": [
       "375.36693834035037"
      ]
     },
     "execution_count": 29,
     "metadata": {},
     "output_type": "execute_result"
    }
   ],
   "source": [
    "q = 1.2\n",
    "tol = 1e-8\n",
    "ab.empirical_mse(beta_hat1p2, X, y, gamma1p2, q, tol)"
   ]
  },
  {
   "cell_type": "markdown",
   "metadata": {},
   "source": [
    "## 5. Lower Level Functionalities"
   ]
  },
  {
   "cell_type": "markdown",
   "metadata": {},
   "source": [
    "To be added"
   ]
  }
 ],
 "metadata": {
  "kernelspec": {
   "display_name": "Python 2",
   "language": "python",
   "name": "python2"
  },
  "language_info": {
   "codemirror_mode": {
    "name": "ipython",
    "version": 2
   },
   "file_extension": ".py",
   "mimetype": "text/x-python",
   "name": "python",
   "nbconvert_exporter": "python",
   "pygments_lexer": "ipython2",
   "version": "2.7.13"
  }
 },
 "nbformat": 4,
 "nbformat_minor": 2
}
